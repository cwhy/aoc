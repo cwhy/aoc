{
 "cells": [
  {
   "cell_type": "code",
   "execution_count": 29,
   "id": "3ec8940e",
   "metadata": {},
   "outputs": [],
   "source": [
    ":dep anyhow = { version = \"*\" }\n",
    ":dep ureq = { version = \"*\", features = [\"charset\"] }"
   ]
  },
  {
   "cell_type": "code",
   "execution_count": 30,
   "id": "bd831d88",
   "metadata": {},
   "outputs": [],
   "source": [
    "use anyhow::{bail, Context, Result};\n"
   ]
  },
  {
   "cell_type": "code",
   "execution_count": 84,
   "id": "be49eac8",
   "metadata": {
    "scrolled": false
   },
   "outputs": [],
   "source": [
    "let session = \"sid\";\n",
    "let year = 2022;\n",
    "let day = 1;\n",
    "let response = ureq::get(&format!(\n",
    "    \"https://adventofcode.com/{}/day/{}/input\",\n",
    "    year, day\n",
    "))\n",
    ".set(\"COOKIE\", &format!(\"session={}\", session))\n",
    ".set(\"User-Agent\", \"aoc CWhy\")\n",
    ".call();\n",
    "\n",
    "let input_str = response.into_string()?;\n",
    "\n",
    "let test_input = \"1000\n",
    "2000\n",
    "3000\n",
    "\n",
    "4000\n",
    "\n",
    "5000\n",
    "6000\n",
    "\n",
    "7000\n",
    "8000\n",
    "9000\n",
    "\n",
    "10000\";\n"
   ]
  },
  {
   "cell_type": "code",
   "execution_count": 106,
   "id": "0483b35a",
   "metadata": {},
   "outputs": [
    {
     "name": "stderr",
     "output_type": "stream",
     "text": [
      "[src/lib.rs:189] out = 70296\n"
     ]
    },
    {
     "data": {
      "text/plain": [
       "()"
      ]
     },
     "execution_count": 106,
     "metadata": {},
     "output_type": "execute_result"
    }
   ],
   "source": [
    "{\n",
    "    let input = &input_str[..];\n",
    "    let process = |doc: &str| doc.split(\"\\n\\n\")\n",
    "        .map(|x| x.lines()\n",
    "            .map(|y| y.parse::<i32>().unwrap())\n",
    "            .sum::<i32>()\n",
    "            )\n",
    "        .max();\n",
    "\n",
    "    let out = process(input).unwrap();\n",
    "    dbg!(out);\n",
    "}\n"
   ]
  }
 ],
 "metadata": {
  "kernelspec": {
   "display_name": "Rust",
   "language": "rust",
   "name": "rust"
  },
  "language_info": {
   "codemirror_mode": "rust",
   "file_extension": ".rs",
   "mimetype": "text/rust",
   "name": "Rust",
   "pygment_lexer": "rust",
   "version": ""
  }
 },
 "nbformat": 4,
 "nbformat_minor": 5
}
