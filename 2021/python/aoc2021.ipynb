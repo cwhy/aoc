{
 "cells": [
  {
   "cell_type": "code",
   "execution_count": null,
   "outputs": [],
   "source": [
    "from collections import Counter\n",
    "\n",
    "def get_table(m):\n",
    "    invert_counter = {v: i for i, v in Counter(''.join(m)).items()}\n",
    "    digit_table = {\n",
    "        'e': invert_counter[4],\n",
    "        'b': invert_counter[6],\n",
    "        'f': invert_counter[9],\n",
    "    }\n",
    "    def rm_from_str(s):\n",
    "        return s.translate(str.maketrans('', '', ''.join(digit_table.values())))\n",
    "\n",
    "    digit_table['c'] = rm_from_str(m[0])\n",
    "    digit_table['a'] = rm_from_str(m[1])\n",
    "    digit_table['d'] = rm_from_str(m[2])\n",
    "    digit_table['g'] = rm_from_str(m[-1])\n",
    "    return {v: i for i, v in digit_table.items()}\n",
    "\n",
    "with open('input8.txt') as file:\n",
    "    content = file.readlines()\n",
    "    digit_list = ['abcefg', 'cf', 'acdeg', 'acdfg', 'bcdf', 'abdfg', 'abdefg', 'acf', 'abcdefg', 'abcdfg']\n",
    "    inverted_digit_list = {v: str(i) for i, v in enumerate(digit_list)}\n",
    "\n",
    "    numbers = [int(''.join(\n",
    "                    inverted_digit_list[''.join(sorted(w.translate(str.maketrans(get_table(tuple(sorted(sorted([\"\".join(sorted(list(s))) for s in in_str.split(\" \")], key= lambda x: x[0]), key=len)))))))]\n",
    "                    for w in tuple(\"\".join(sorted(list(s))) for s in out_str.split(\" \"))))\n",
    "                for in_str, out_str in (row.strip().split(' | ') for row in content)]\n",
    "    print(sum(numbers))"
   ],
   "metadata": {
    "collapsed": false,
    "pycharm": {
     "name": "#%%\n"
    }
   }
  },
  {
   "cell_type": "code",
   "execution_count": null,
   "outputs": [],
   "source": [
    "import numpy as np\n",
    "\n",
    "with open('input9.txt') as file:\n",
    "    content = file.readlines()\n",
    "matrix = np.array([list(int(i) for i in r.strip()) for r in content])"
   ],
   "metadata": {
    "collapsed": false,
    "pycharm": {
     "name": "#%%\n"
    }
   }
  },
  {
   "cell_type": "code",
   "execution_count": null,
   "outputs": [],
   "source": [
    "matrix[:-1, :].shape\n",
    "np.full((1,100), 10).shape"
   ],
   "metadata": {
    "collapsed": false,
    "pycharm": {
     "name": "#%%\n"
    }
   }
  },
  {
   "cell_type": "code",
   "execution_count": null,
   "outputs": [],
   "source": [
    "low_pts = (matrix < np.r_[np.full((1,100), 10), matrix[1:, :]])*(matrix < np.r_[matrix[:-1, :], np.full((1,100), 10)])*(matrix < np.c_[matrix[:, :-1], np.full((100,1), 10)])*(matrix < np.c_[np.full((100,1), 10), matrix[:, 1:]])\n",
    "\n",
    "sum(matrix < np.r_[np.full((1,100), 10), matrix[1:, :]] * 1)"
   ],
   "metadata": {
    "collapsed": false,
    "pycharm": {
     "name": "#%%\n"
    }
   }
  },
  {
   "cell_type": "code",
   "source": [
    "k = matrix < np.r_[np.full((1, 100), 10), matrix[1:, :]]\n",
    "sum(k)\n"
   ],
   "metadata": {
    "collapsed": false,
    "pycharm": {
     "name": "#%%\n"
    }
   },
   "execution_count": 13,
   "outputs": [
    {
     "data": {
      "text/plain": "array([1, 1, 1, 1, 1, 1, 1, 1, 1, 1, 1, 1, 1, 1, 1, 1, 1, 1, 1, 1, 1, 1,\n       1, 1, 1, 1, 1, 1, 1, 1, 1, 1, 1, 1, 1, 1, 1, 1, 1, 1, 1, 1, 1, 1,\n       1, 1, 1, 1, 1, 1, 1, 1, 1, 1, 1, 1, 1, 1, 1, 1, 1, 1, 1, 1, 1, 1,\n       1, 1, 1, 1, 1, 1, 1, 1, 1, 1, 1, 1, 1, 1, 1, 1, 1, 1, 1, 1, 1, 1,\n       1, 1, 1, 1, 1, 1, 1, 1, 1, 1, 1, 1])"
     },
     "execution_count": 13,
     "metadata": {},
     "output_type": "execute_result"
    }
   ]
  }
 ],
 "metadata": {
  "kernelspec": {
   "display_name": "PyCharm (supervised_benchmarks)",
   "language": "python",
   "name": "pycharm-d297a373"
  },
  "language_info": {
   "codemirror_mode": {
    "name": "ipython",
    "version": 3
   },
   "file_extension": ".py",
   "mimetype": "text/x-python",
   "name": "python",
   "nbconvert_exporter": "python",
   "pygments_lexer": "ipython3",
   "version": "3.8.10"
  }
 },
 "nbformat": 4,
 "nbformat_minor": 4
}